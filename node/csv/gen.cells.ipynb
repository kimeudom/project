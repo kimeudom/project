{
 "cells": [
  {
   "cell_type": "code",
   "execution_count": 111,
   "metadata": {},
   "outputs": [],
   "source": [
    "# Libray imports\n",
    "import pandas as pd\n",
    "import numpy as np\n",
    "import matplotlib.pyplot as plt\n",
    "import csv\n",
    "from math import sqrt"
   ]
  },
  {
   "cell_type": "code",
   "execution_count": 112,
   "metadata": {},
   "outputs": [
    {
     "data": {
      "text/html": [
       "<div>\n",
       "<style scoped>\n",
       "    .dataframe tbody tr th:only-of-type {\n",
       "        vertical-align: middle;\n",
       "    }\n",
       "\n",
       "    .dataframe tbody tr th {\n",
       "        vertical-align: top;\n",
       "    }\n",
       "\n",
       "    .dataframe thead th {\n",
       "        text-align: right;\n",
       "    }\n",
       "</style>\n",
       "<table border=\"1\" class=\"dataframe\">\n",
       "  <thead>\n",
       "    <tr style=\"text-align: right;\">\n",
       "      <th></th>\n",
       "      <th>latitude</th>\n",
       "      <th>longitude</th>\n",
       "    </tr>\n",
       "  </thead>\n",
       "  <tbody>\n",
       "    <tr>\n",
       "      <th>0</th>\n",
       "      <td>-1.28455776710886</td>\n",
       "      <td>36.825689763891297</td>\n",
       "    </tr>\n",
       "    <tr>\n",
       "      <th>1</th>\n",
       "      <td>-1.26157387827236</td>\n",
       "      <td>36.803393781661399</td>\n",
       "    </tr>\n",
       "    <tr>\n",
       "      <th>2</th>\n",
       "      <td>-1.32497857633817</td>\n",
       "      <td>36.849149723237403</td>\n",
       "    </tr>\n",
       "    <tr>\n",
       "      <th>3</th>\n",
       "      <td>-1.25894928057679</td>\n",
       "      <td>36.785457391281398</td>\n",
       "    </tr>\n",
       "    <tr>\n",
       "      <th>4</th>\n",
       "      <td>-1.26152940502561</td>\n",
       "      <td>36.726359036110303</td>\n",
       "    </tr>\n",
       "    <tr>\n",
       "      <th>5</th>\n",
       "      <td>-1.30732011166900</td>\n",
       "      <td>36.741882318619503</td>\n",
       "    </tr>\n",
       "    <tr>\n",
       "      <th>6</th>\n",
       "      <td>-1.30266639615484</td>\n",
       "      <td>36.751987879705197</td>\n",
       "    </tr>\n",
       "    <tr>\n",
       "      <th>7</th>\n",
       "      <td>-1.33074455112332</td>\n",
       "      <td>36.778831908804896</td>\n",
       "    </tr>\n",
       "    <tr>\n",
       "      <th>8</th>\n",
       "      <td>-1.32464574489450</td>\n",
       "      <td>36.923209089351097</td>\n",
       "    </tr>\n",
       "  </tbody>\n",
       "</table>\n",
       "</div>"
      ],
      "text/plain": [
       "           latitude           longitude\n",
       "0 -1.28455776710886  36.825689763891297\n",
       "1 -1.26157387827236  36.803393781661399\n",
       "2 -1.32497857633817  36.849149723237403\n",
       "3 -1.25894928057679  36.785457391281398\n",
       "4 -1.26152940502561  36.726359036110303\n",
       "5 -1.30732011166900  36.741882318619503\n",
       "6 -1.30266639615484  36.751987879705197\n",
       "7 -1.33074455112332  36.778831908804896\n",
       "8 -1.32464574489450  36.923209089351097"
      ]
     },
     "execution_count": 112,
     "metadata": {},
     "output_type": "execute_result"
    }
   ],
   "source": [
    "pd.set_option('display.precision', 15)\n",
    "df = pd.read_csv(\"baseStations.csv\", dtype=float)\n",
    "df1 = pd.read_csv(\"baseStations.csv\", dtype=float)\n",
    "df.drop([\"id\", \"carrierID\", \"maxConnected\"], axis=1, inplace=True)\n",
    "df.head(len(df))"
   ]
  },
  {
   "cell_type": "code",
   "execution_count": 113,
   "metadata": {},
   "outputs": [
    {
     "name": "stdout",
     "output_type": "stream",
     "text": [
      "[[-1.28455777 36.82568976]\n",
      " [-1.26157388 36.80339378]\n",
      " [-1.32497858 36.84914972]\n",
      " [-1.25894928 36.78545739]\n",
      " [-1.26152941 36.72635904]\n",
      " [-1.30732011 36.74188232]\n",
      " [-1.3026664  36.75198788]\n",
      " [-1.33074455 36.77883191]\n",
      " [-1.32464574 36.92320909]]\n"
     ]
    }
   ],
   "source": [
    "data = df.to_numpy(copy=True, dtype=np.float64)\n",
    "print (data)"
   ]
  },
  {
   "attachments": {},
   "cell_type": "markdown",
   "metadata": {},
   "source": [
    "In an equilateral triangle, the base station is in the triangle equidistant to all the vertices.\n",
    "The upper vertex is 1km away from the base station, on Google maps. 3km ≈ 0.000081606°\n",
    "The horizontal delta is ± 0.000069804°\n",
    "The vertical delta is -0.00004227°"
   ]
  },
  {
   "cell_type": "code",
   "execution_count": 114,
   "metadata": {},
   "outputs": [
    {
     "name": "stdout",
     "output_type": "stream",
     "text": [
      "[[-1.2763971671088599, 36.8256897638913], [-1.28878476710886, 36.8326701638913], [-1.28878476710886, 36.818709363891294], [-1.25341327827236, 36.8033937816614], [-1.26580087827236, 36.8103741816614], [-1.26580087827236, 36.796413381661395], [-1.31681797633817, 36.8491497232374], [-1.32920557633817, 36.856130123237406], [-1.32920557633817, 36.8421693232374], [-1.2507886805767898, 36.7854573912814], [-1.2631762805767899, 36.7924377912814], [-1.2631762805767899, 36.778476991281394], [-1.25336880502561, 36.7263590361103], [-1.26575640502561, 36.733339436110306], [-1.26575640502561, 36.7193786361103], [-1.299159511669, 36.7418823186195], [-1.311547111669, 36.748862718619506], [-1.311547111669, 36.7349019186195], [-1.2945057961548398, 36.7519878797052], [-1.30689339615484, 36.7589682797052], [-1.30689339615484, 36.745007479705194], [-1.32258395112332, 36.7788319088049], [-1.33497155112332, 36.7858123088049], [-1.33497155112332, 36.77185150880489], [-1.3164851448944999, 36.9232090893511], [-1.3288727448945, 36.9301894893511], [-1.3288727448945, 36.916228689351094]]\n"
     ]
    }
   ],
   "source": [
    "new_data = []\n",
    "for i in range(0, 9):\n",
    "    new_data.append([data[i][0] + 100 *0.000081606, data[i][1]])\n",
    "    new_data.append([data[i][0] - 100 *0.00004227, data[i][1] + 100 *0.000069804])\n",
    "    new_data.append([data[i][0] - 100 *0.00004227 , data[i][1] - 100 *0.000069804])\n",
    "\n",
    "print(new_data)"
   ]
  },
  {
   "cell_type": "code",
   "execution_count": 115,
   "metadata": {},
   "outputs": [],
   "source": [
    "csv_cells = 'cells.csv'\n",
    "\n",
    "with open (csv_cells, 'r') as file:\n",
    "    reader = csv.reader(file)\n",
    "    rows = list(reader)\n",
    "    header_row = rows[0]\n",
    "    data_rows = rows[1:]\n",
    "\n",
    "for i, row in enumerate(data_rows):\n",
    "    if i < len(data_rows):\n",
    "        row[2] = str(new_data[i][0])\n",
    "        row[3] = str(new_data[i][1])\n",
    "\n",
    "header_row = [\"id\", \"baseID\", \"latitude\", \"longitude\", \"MaxConnected\"]\n",
    "\n",
    "with open (csv_cells, 'w', newline='') as file:\n",
    "    writer = csv.writer(file)\n",
    "    writer.writerow(header_row)\n",
    "    writer.writerows(data_rows)\n"
   ]
  }
 ],
 "metadata": {
  "kernelspec": {
   "display_name": "Python 3",
   "language": "python",
   "name": "python3"
  },
  "language_info": {
   "codemirror_mode": {
    "name": "ipython",
    "version": 3
   },
   "file_extension": ".py",
   "mimetype": "text/x-python",
   "name": "python",
   "nbconvert_exporter": "python",
   "pygments_lexer": "ipython3",
   "version": "3.9.16"
  },
  "orig_nbformat": 4
 },
 "nbformat": 4,
 "nbformat_minor": 2
}
