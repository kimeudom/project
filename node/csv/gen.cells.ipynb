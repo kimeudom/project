{
 "cells": [
  {
   "cell_type": "code",
   "execution_count": 5,
   "metadata": {},
   "outputs": [],
   "source": [
    "# Libray imports\n",
    "import pandas as pd\n",
    "import numpy as np\n",
    "import matplotlib.pyplot as plt\n",
    "from math import sqrt"
   ]
  },
  {
   "cell_type": "code",
   "execution_count": 6,
   "metadata": {},
   "outputs": [
    {
     "data": {
      "text/html": [
       "<div>\n",
       "<style scoped>\n",
       "    .dataframe tbody tr th:only-of-type {\n",
       "        vertical-align: middle;\n",
       "    }\n",
       "\n",
       "    .dataframe tbody tr th {\n",
       "        vertical-align: top;\n",
       "    }\n",
       "\n",
       "    .dataframe thead th {\n",
       "        text-align: right;\n",
       "    }\n",
       "</style>\n",
       "<table border=\"1\" class=\"dataframe\">\n",
       "  <thead>\n",
       "    <tr style=\"text-align: right;\">\n",
       "      <th></th>\n",
       "      <th>lat</th>\n",
       "      <th>lng</th>\n",
       "    </tr>\n",
       "  </thead>\n",
       "  <tbody>\n",
       "    <tr>\n",
       "      <th>0</th>\n",
       "      <td>-1.28455776710886</td>\n",
       "      <td>36.825689763891297</td>\n",
       "    </tr>\n",
       "    <tr>\n",
       "      <th>1</th>\n",
       "      <td>-1.26157387827236</td>\n",
       "      <td>36.803393781661399</td>\n",
       "    </tr>\n",
       "    <tr>\n",
       "      <th>2</th>\n",
       "      <td>-1.32497857633817</td>\n",
       "      <td>36.849149723237403</td>\n",
       "    </tr>\n",
       "    <tr>\n",
       "      <th>3</th>\n",
       "      <td>-1.25894928057679</td>\n",
       "      <td>36.785457391281398</td>\n",
       "    </tr>\n",
       "    <tr>\n",
       "      <th>4</th>\n",
       "      <td>-1.26152940502561</td>\n",
       "      <td>36.726359036110303</td>\n",
       "    </tr>\n",
       "    <tr>\n",
       "      <th>5</th>\n",
       "      <td>-1.30732011166900</td>\n",
       "      <td>36.741882318619503</td>\n",
       "    </tr>\n",
       "    <tr>\n",
       "      <th>6</th>\n",
       "      <td>-1.30266639615484</td>\n",
       "      <td>36.751987879705197</td>\n",
       "    </tr>\n",
       "    <tr>\n",
       "      <th>7</th>\n",
       "      <td>-1.33074455112332</td>\n",
       "      <td>36.778831908804896</td>\n",
       "    </tr>\n",
       "    <tr>\n",
       "      <th>8</th>\n",
       "      <td>-1.32464574489450</td>\n",
       "      <td>36.923209089351097</td>\n",
       "    </tr>\n",
       "  </tbody>\n",
       "</table>\n",
       "</div>"
      ],
      "text/plain": [
       "                lat                 lng\n",
       "0 -1.28455776710886  36.825689763891297\n",
       "1 -1.26157387827236  36.803393781661399\n",
       "2 -1.32497857633817  36.849149723237403\n",
       "3 -1.25894928057679  36.785457391281398\n",
       "4 -1.26152940502561  36.726359036110303\n",
       "5 -1.30732011166900  36.741882318619503\n",
       "6 -1.30266639615484  36.751987879705197\n",
       "7 -1.33074455112332  36.778831908804896\n",
       "8 -1.32464574489450  36.923209089351097"
      ]
     },
     "execution_count": 6,
     "metadata": {},
     "output_type": "execute_result"
    }
   ],
   "source": [
    "pd.set_option('display.precision', 15)\n",
    "df = pd.read_csv(\"gen.cells.csv\", dtype=float)\n",
    "df.head(len(df))"
   ]
  },
  {
   "cell_type": "code",
   "execution_count": 7,
   "metadata": {},
   "outputs": [
    {
     "name": "stdout",
     "output_type": "stream",
     "text": [
      "[[-1.28455777 36.82568976]\n",
      " [-1.26157388 36.80339378]\n",
      " [-1.32497858 36.84914972]\n",
      " [-1.25894928 36.78545739]\n",
      " [-1.26152941 36.72635904]\n",
      " [-1.30732011 36.74188232]\n",
      " [-1.3026664  36.75198788]\n",
      " [-1.33074455 36.77883191]\n",
      " [-1.32464574 36.92320909]]\n"
     ]
    }
   ],
   "source": [
    "data = df.to_numpy(copy=True, dtype=np.float64)\n",
    "print (data)"
   ]
  },
  {
   "attachments": {},
   "cell_type": "markdown",
   "metadata": {},
   "source": [
    "In an equilateral triangle, the base station is in the triangle equidistant to all the vertices.\n",
    "The upper vertex is 1km away from the base station, on Google maps. 1km ≈ 0.0.000917005°\n",
    "The horizontal delta is ± 0.000474995°\n",
    "The vertical delta is -0.000784395°"
   ]
  },
  {
   "cell_type": "code",
   "execution_count": 8,
   "metadata": {},
   "outputs": [
    {
     "name": "stdout",
     "output_type": "stream",
     "text": [
      "-1.28364076210886  ,  36.8256897638913\n",
      "-1.2853421621088599  ,  36.826164758891295\n",
      "-1.2853421621088599  ,  36.8252147688913\n",
      "-1.26065687327236  ,  36.8033937816614\n",
      "-1.26235827327236  ,  36.803868776661396\n",
      "-1.26235827327236  ,  36.8029187866614\n",
      "-1.32406157133817  ,  36.8491497232374\n",
      "-1.32576297133817  ,  36.8496247182374\n",
      "-1.32576297133817  ,  36.848674728237405\n",
      "-1.2580322755767899  ,  36.7854573912814\n",
      "-1.2597336755767898  ,  36.785932386281395\n",
      "-1.2597336755767898  ,  36.7849823962814\n",
      "-1.26061240002561  ,  36.7263590361103\n",
      "-1.26231380002561  ,  36.7268340311103\n",
      "-1.26231380002561  ,  36.725884041110305\n",
      "-1.306403106669  ,  36.7418823186195\n",
      "-1.308104506669  ,  36.7423573136195\n",
      "-1.308104506669  ,  36.741407323619505\n",
      "-1.30174939115484  ,  36.7519878797052\n",
      "-1.3034507911548399  ,  36.752462874705195\n",
      "-1.3034507911548399  ,  36.7515128847052\n",
      "-1.32982754612332  ,  36.7788319088049\n",
      "-1.33152894612332  ,  36.779306903804894\n",
      "-1.33152894612332  ,  36.7783569138049\n",
      "-1.3237287398945  ,  36.9232090893511\n",
      "-1.3254301398944999  ,  36.923684084351095\n",
      "-1.3254301398944999  ,  36.9227340943511\n"
     ]
    }
   ],
   "source": [
    "for i in range(0, 9):\n",
    "    print(data[i][0] + 0.000917005, \" , \", data[i][1])\n",
    "    print(data[i][0] - 0.000784395 , \" , \" , data[i][1] + 0.000474995)\n",
    "    print(data[i][0] - 0.000784395 , \" , \" , data[i][1] - 0.000474995)\n",
    "    print(\"\\n\\n\")\n",
    "    "
   ]
  }
 ],
 "metadata": {
  "kernelspec": {
   "display_name": "Python 3",
   "language": "python",
   "name": "python3"
  },
  "language_info": {
   "codemirror_mode": {
    "name": "ipython",
    "version": 3
   },
   "file_extension": ".py",
   "mimetype": "text/x-python",
   "name": "python",
   "nbconvert_exporter": "python",
   "pygments_lexer": "ipython3",
   "version": "3.9.16"
  },
  "orig_nbformat": 4
 },
 "nbformat": 4,
 "nbformat_minor": 2
}
