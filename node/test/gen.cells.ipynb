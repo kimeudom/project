{
 "cells": [
  {
   "cell_type": "code",
   "execution_count": 27,
   "metadata": {},
   "outputs": [],
   "source": [
    "# Libray imports\n",
    "import pandas as pd\n",
    "import numpy as np\n",
    "import matplotlib.pyplot as plt\n",
    "import csv\n",
    "from math import sqrt"
   ]
  },
  {
   "cell_type": "code",
   "execution_count": 28,
   "metadata": {},
   "outputs": [
    {
     "data": {
      "text/html": [
       "<div>\n",
       "<style scoped>\n",
       "    .dataframe tbody tr th:only-of-type {\n",
       "        vertical-align: middle;\n",
       "    }\n",
       "\n",
       "    .dataframe tbody tr th {\n",
       "        vertical-align: top;\n",
       "    }\n",
       "\n",
       "    .dataframe thead th {\n",
       "        text-align: right;\n",
       "    }\n",
       "</style>\n",
       "<table border=\"1\" class=\"dataframe\">\n",
       "  <thead>\n",
       "    <tr style=\"text-align: right;\">\n",
       "      <th></th>\n",
       "      <th>latitude</th>\n",
       "      <th>longitude</th>\n",
       "    </tr>\n",
       "  </thead>\n",
       "  <tbody>\n",
       "    <tr>\n",
       "      <th>0</th>\n",
       "      <td>-1.289216966142109</td>\n",
       "      <td>36.787959679691326</td>\n",
       "    </tr>\n",
       "    <tr>\n",
       "      <th>1</th>\n",
       "      <td>-1.316841312519391</td>\n",
       "      <td>36.817214222435176</td>\n",
       "    </tr>\n",
       "  </tbody>\n",
       "</table>\n",
       "</div>"
      ],
      "text/plain": [
       "            latitude           longitude\n",
       "0 -1.289216966142109  36.787959679691326\n",
       "1 -1.316841312519391  36.817214222435176"
      ]
     },
     "execution_count": 28,
     "metadata": {},
     "output_type": "execute_result"
    }
   ],
   "source": [
    "pd.set_option('display.precision', 15)\n",
    "df = pd.read_csv(\"baseStations.csv\", dtype=float)\n",
    "df1 = pd.read_csv(\"baseStations.csv\", dtype=float)\n",
    "df.drop([\"id\", \"carrierID\", \"maxConnected\"], axis=1, inplace=True)\n",
    "df.head(len(df))"
   ]
  },
  {
   "cell_type": "code",
   "execution_count": 29,
   "metadata": {},
   "outputs": [
    {
     "name": "stdout",
     "output_type": "stream",
     "text": [
      "[[-1.28921697 36.78795968]\n",
      " [-1.31684131 36.81721422]]\n"
     ]
    }
   ],
   "source": [
    "data = df.to_numpy(copy=True, dtype=np.float64)\n",
    "print (data)"
   ]
  },
  {
   "attachments": {},
   "cell_type": "markdown",
   "metadata": {},
   "source": [
    "In an equilateral triangle, the base station is in the triangle equidistant to all the vertices.\n",
    "The upper vertex is 1km away from the base station, on Google maps. 3km ≈ 0.000081606°\n",
    "The horizontal delta is ± 0.000069804°\n",
    "The vertical delta is -0.00004227°"
   ]
  },
  {
   "cell_type": "code",
   "execution_count": 30,
   "metadata": {},
   "outputs": [
    {
     "name": "stdout",
     "output_type": "stream",
     "text": [
      "[[-1.281056366142109, 36.787959679691326], [-1.293443966142109, 36.79494007969133], [-1.293443966142109, 36.78097927969132], [-1.3086807125193913, 36.817214222435176], [-1.3210683125193914, 36.82419462243518], [-1.3210683125193914, 36.81023382243517]]\n"
     ]
    }
   ],
   "source": [
    "new_data = []\n",
    "for i in range(0, 2):\n",
    "    new_data.append([data[i][0] + 100 *0.000081606, data[i][1]])\n",
    "    new_data.append([data[i][0] - 100 *0.00004227, data[i][1] + 100 *0.000069804])\n",
    "    new_data.append([data[i][0] - 100 *0.00004227 , data[i][1] - 100 *0.000069804])\n",
    "\n",
    "print(new_data)"
   ]
  },
  {
   "cell_type": "code",
   "execution_count": 31,
   "metadata": {},
   "outputs": [],
   "source": [
    "csv_cells = 'cells.csv'\n",
    "\n",
    "with open (csv_cells, 'r') as file:\n",
    "    reader = csv.reader(file)\n",
    "    rows = list(reader)\n",
    "    header_row = rows[0]\n",
    "    data_rows = rows[1:]\n",
    "\n",
    "for i, row in enumerate(data_rows):\n",
    "    if i < len(data_rows):\n",
    "        row[2] = str(new_data[i][0])\n",
    "        row[3] = str(new_data[i][1])\n",
    "\n",
    "header_row = [\"id\", \"baseID\", \"latitude\", \"longitude\", \"MaxConnected\"]\n",
    "\n",
    "with open (csv_cells, 'w', newline='') as file:\n",
    "    writer = csv.writer(file)\n",
    "    writer.writerow(header_row)\n",
    "    writer.writerows(data_rows)\n"
   ]
  }
 ],
 "metadata": {
  "kernelspec": {
   "display_name": "Python 3",
   "language": "python",
   "name": "python3"
  },
  "language_info": {
   "codemirror_mode": {
    "name": "ipython",
    "version": 3
   },
   "file_extension": ".py",
   "mimetype": "text/x-python",
   "name": "python",
   "nbconvert_exporter": "python",
   "pygments_lexer": "ipython3",
   "version": "3.9.16"
  },
  "orig_nbformat": 4
 },
 "nbformat": 4,
 "nbformat_minor": 2
}
